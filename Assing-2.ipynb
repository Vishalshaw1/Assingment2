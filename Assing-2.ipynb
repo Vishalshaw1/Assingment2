{
 "cells": [
  {
   "cell_type": "markdown",
   "id": "0ef75c4a-0f90-4c6d-9d5e-c09ecd557c85",
   "metadata": {},
   "source": [
    "Q1. How do you comment code in Python? What are the different types of comments?"
   ]
  },
  {
   "cell_type": "markdown",
   "id": "939e107c-1b75-43d9-a327-ad719e3b79f9",
   "metadata": {},
   "source": [
    "#comand is to use comment in python.\n",
    "There ara two types of comments single line comment ,\n",
    "multiple-line comment."
   ]
  },
  {
   "cell_type": "markdown",
   "id": "cc612436-8622-4d55-adb5-ff0e1254485d",
   "metadata": {},
   "source": [
    "Q2. What are variables in Python? How do you declare and assign values to variables?"
   ]
  },
  {
   "cell_type": "markdown",
   "id": "1f59d4fe-567e-4824-ae96-6f040678b75b",
   "metadata": {},
   "source": [
    "Variable is a symbolic name where we store objects .\n",
    "\n",
    "In declearation of varible we enter the values directly or indirectly, indirectly means we put the values in set, dics,tuple ,list etc.\n",
    "\n",
    "In assing values we store varible in another varible."
   ]
  },
  {
   "cell_type": "markdown",
   "id": "fdb3cb2b-e69b-4efc-8acd-3a36e4a59010",
   "metadata": {},
   "source": [
    "Q3. How do you convert one data type to another in Python?"
   ]
  },
  {
   "cell_type": "markdown",
   "id": "a23014d6-91c6-4f91-8c20-a740eff72e64",
   "metadata": {},
   "source": [
    " use the type name as a function"
   ]
  },
  {
   "cell_type": "markdown",
   "id": "7ee435df-0e13-453b-8ceb-a2159cdb3a36",
   "metadata": {},
   "source": [
    "Q4. How do you write and execute a Python script from the command line?"
   ]
  },
  {
   "cell_type": "markdown",
   "id": "0cb5edb1-fffc-4b66-803c-a96a1f0d65c3",
   "metadata": {},
   "source": [
    "open a command-line and type in the word python , or python3 if you have both versions, followed by the path to your script"
   ]
  },
  {
   "cell_type": "markdown",
   "id": "2235026a-c274-4804-acd1-e21c4d64a8b9",
   "metadata": {},
   "source": [
    "Q5. Given a list my_list = [1, 2, 3, 4, 5], write the code to slice the list and obtain the sub-list [2, 3]."
   ]
  },
  {
   "cell_type": "code",
   "execution_count": 10,
   "id": "540ccfe9-0f2b-4537-8301-f88360c70cea",
   "metadata": {},
   "outputs": [
    {
     "name": "stdout",
     "output_type": "stream",
     "text": [
      "[2, 3]\n"
     ]
    }
   ],
   "source": [
    "my_list= [1,2,3,4,5]\n",
    "print(my_list[1:3])"
   ]
  },
  {
   "cell_type": "markdown",
   "id": "faad8f35-2eae-49e7-8639-20ed78999d77",
   "metadata": {},
   "source": [
    "Q6. What is a complex number in mathematics, and how is it represented in Python?"
   ]
  },
  {
   "cell_type": "markdown",
   "id": "79966170-e179-4237-8a96-6eb22d8f73f0",
   "metadata": {},
   "source": [
    "Complex number is a imaginary number . In python complex no. is represented by using j ."
   ]
  },
  {
   "cell_type": "markdown",
   "id": "62923cfd-16d6-470e-acc1-cdda319d273c",
   "metadata": {},
   "source": [
    "Q7. What is the correct way to declare a variable named age and assign the value 25 to it?"
   ]
  },
  {
   "cell_type": "code",
   "execution_count": 13,
   "id": "ed0eaf9b-09a0-4dcb-8d49-d8f221e494d1",
   "metadata": {},
   "outputs": [],
   "source": [
    "D = {'Name':'Vishal','Age':'25'}"
   ]
  },
  {
   "cell_type": "code",
   "execution_count": 17,
   "id": "76dd2b74-1f36-49fd-adfb-fd5710b3d9d6",
   "metadata": {},
   "outputs": [
    {
     "data": {
      "text/plain": [
       "{'Name': 'Vishal', 'Age': '25'}"
      ]
     },
     "execution_count": 17,
     "metadata": {},
     "output_type": "execute_result"
    }
   ],
   "source": [
    "D"
   ]
  },
  {
   "cell_type": "markdown",
   "id": "0bc0ee2a-df7f-4637-8a6d-a4a0794e0c8b",
   "metadata": {},
   "source": [
    "Q8. Declare a variable named price and assign the value 9.99 to it. What data type does this variable\n",
    "belong to?"
   ]
  },
  {
   "cell_type": "code",
   "execution_count": 25,
   "id": "0c1e43b7-51b7-4b29-888e-f5d18c7f6c1c",
   "metadata": {},
   "outputs": [],
   "source": [
    "Price = 9.99"
   ]
  },
  {
   "cell_type": "code",
   "execution_count": 26,
   "id": "c24e203a-6cef-42b0-ad8c-9a27485bd748",
   "metadata": {},
   "outputs": [
    {
     "data": {
      "text/plain": [
       "float"
      ]
     },
     "execution_count": 26,
     "metadata": {},
     "output_type": "execute_result"
    }
   ],
   "source": [
    "type(Price)"
   ]
  },
  {
   "cell_type": "code",
   "execution_count": 22,
   "id": "3fcc4750-02d3-4e84-8e60-118aa6d95edb",
   "metadata": {},
   "outputs": [
    {
     "data": {
      "text/plain": [
       "dict"
      ]
     },
     "execution_count": 22,
     "metadata": {},
     "output_type": "execute_result"
    }
   ],
   "source": [
    "type(V)"
   ]
  },
  {
   "cell_type": "markdown",
   "id": "94fff1b0-6b6a-4d9a-abe6-4d69c9fdb4b0",
   "metadata": {},
   "source": [
    "Q9. Create a variable named name and assign your full name to it as a string. How would you print the\n",
    "value of this variable?"
   ]
  },
  {
   "cell_type": "code",
   "execution_count": 24,
   "id": "19bdcd76-0404-40cc-8c00-508546b82891",
   "metadata": {},
   "outputs": [
    {
     "name": "stdout",
     "output_type": "stream",
     "text": [
      "Vishal shaw\n"
     ]
    }
   ],
   "source": [
    "Name = 'Vishal shaw'\n",
    "print(Name)"
   ]
  },
  {
   "cell_type": "markdown",
   "id": "40f2261c-aabf-4d80-b194-97a440ce8da3",
   "metadata": {},
   "source": [
    "Q10. Given the string \"Hello, World!\", extract the substring \"World\"."
   ]
  },
  {
   "cell_type": "code",
   "execution_count": 33,
   "id": "2c07bd0e-0ae4-423d-beb1-2040996d5a6c",
   "metadata": {},
   "outputs": [
    {
     "name": "stdout",
     "output_type": "stream",
     "text": [
      "str[7:12]\n"
     ]
    }
   ],
   "source": [
    "str = \"Hello, World!\"\n",
    "print(str[7:12])"
   ]
  },
  {
   "cell_type": "markdown",
   "id": "e298d0fa-e332-4c20-8183-257fd549410a",
   "metadata": {},
   "source": [
    "Q11. Create a variable named \"is_student\" and assign it a boolean value indicating whether you are\n",
    "currently a student or not."
   ]
  },
  {
   "cell_type": "markdown",
   "id": "bc221360-af51-4a12-9572-4588ba3fc8bc",
   "metadata": {},
   "source": [
    "student = "
   ]
  }
 ],
 "metadata": {
  "kernelspec": {
   "display_name": "Python 3 (ipykernel)",
   "language": "python",
   "name": "python3"
  },
  "language_info": {
   "codemirror_mode": {
    "name": "ipython",
    "version": 3
   },
   "file_extension": ".py",
   "mimetype": "text/x-python",
   "name": "python",
   "nbconvert_exporter": "python",
   "pygments_lexer": "ipython3",
   "version": "3.10.8"
  }
 },
 "nbformat": 4,
 "nbformat_minor": 5
}
